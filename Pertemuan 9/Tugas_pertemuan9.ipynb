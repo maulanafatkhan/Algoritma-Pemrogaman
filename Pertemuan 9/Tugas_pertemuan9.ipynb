{
  "nbformat": 4,
  "nbformat_minor": 0,
  "metadata": {
    "colab": {
      "provenance": []
    },
    "kernelspec": {
      "name": "python3",
      "display_name": "Python 3"
    },
    "language_info": {
      "name": "python"
    }
  },
  "cells": [
    {
      "cell_type": "code",
      "source": [
        "buah = ['apel', 'mangga', 'jeruk', 'anggur', 'pisang']\n",
        "# print(buah)\n",
        "\n",
        "# a. Tambahkan 'semangka' di akhir list\n",
        "buah.append('semangka')\n",
        "print(\"Setelah menambah 'semangka':\", buah)\n",
        "\n",
        "# b. Sisipkan 'durian' di antara \"jeruk' dan 'anggur'\n",
        "buah.insert(3, 'durian')\n",
        "print(\"Setelah menyisipkan 'durian' :\", buah)\n",
        "\n",
        "# c. Hapus 'mangga' dari list\n",
        "buah.remove('mangga')\n",
        "print(\"Setelah menghapus 'mangga':\", buah)\n",
        "\n",
        "# d. Ubah 'pisang' menjadi 'nanas'\n",
        "buah[4] = 'nanas'\n",
        "print(\"Setelah mengubah 'pisang menjadi 'nanas':\", buah)\n",
        "\n",
        "# e. Tampilkan 3 buah pertama\n"
      ],
      "metadata": {
        "colab": {
          "base_uri": "https://localhost:8080/"
        },
        "id": "PpQg7nwBDaXs",
        "outputId": "580d3919-0ab7-46b2-ed39-c4cd819dbe89"
      },
      "execution_count": 26,
      "outputs": [
        {
          "output_type": "stream",
          "name": "stdout",
          "text": [
            "Setelah menambah 'semangka': ['apel', 'mangga', 'jeruk', 'anggur', 'pisang', 'semangka']\n",
            "Setelah menyisipkan 'durian' : ['apel', 'mangga', 'jeruk', 'durian', 'anggur', 'pisang', 'semangka']\n",
            "Setelah menghapus 'mangga': ['apel', 'jeruk', 'durian', 'anggur', 'pisang', 'semangka']\n",
            "Setelah mengubah 'pisang menjadi 'nanas': ['apel', 'jeruk', 'durian', 'anggur', 'nanas', 'semangka']\n"
          ]
        }
      ]
    },
    {
      "cell_type": "code",
      "source": [
        "buah = ['apel', 'mangga', 'jeruk', 'anggur', 'pisang']\n",
        "# print(buah)\n",
        "\n",
        "# a. Tambahkan 'semangka' di akhir list\n",
        "buah.append('semangka')\n",
        "print(f\"setelah menambahkan 'semangka': {buah}\\n\")\n",
        "\n",
        "\n",
        "# b. Sisipkan 'durian' di antara 'jeruk' dan 'anggur'\n",
        "buah.insert(3,'durian')\n",
        "print(f\"Setelah menyisipkan 'durian': {buah}\\n\")\n",
        "\n",
        "\n",
        "# c. Hapus 'mangga' dari list\n",
        "buah.remove('mangga')\n",
        "print(f\"Setelah menghapus 'mangga': {buah}\\n\")\n",
        "\n",
        "\n",
        "# d. Ubah 'pisang' menjadi 'nanas'\n",
        "buah[4] = 'nanas'\n",
        "print(f\"Setelah mengubah 'pisang menjadi 'nanas': {buah}\\n\")\n",
        "\n",
        "\n",
        "# e. Tampilkan 3 buah pertama\n",
        "buah_0 = buah[:3]\n",
        "print(f\"Setelah menampilkan 3 buah pertama : {buah_0}\")\n"
      ],
      "metadata": {
        "colab": {
          "base_uri": "https://localhost:8080/"
        },
        "id": "sovcuVKOJ5Ju",
        "outputId": "4f2b1e01-890d-42a9-e8c7-499c9ff923a7"
      },
      "execution_count": 33,
      "outputs": [
        {
          "output_type": "stream",
          "name": "stdout",
          "text": [
            "setelah menambahkan 'semangka': ['apel', 'mangga', 'jeruk', 'anggur', 'pisang', 'semangka']\n",
            "\n",
            "Setelah menyisipkan 'durian': ['apel', 'mangga', 'jeruk', 'durian', 'anggur', 'pisang', 'semangka']\n",
            "\n",
            "Setelah menghapus 'mangga': ['apel', 'jeruk', 'durian', 'anggur', 'pisang', 'semangka']\n",
            "\n",
            "Setelah mengubah 'pisang menjadi 'nanas': ['apel', 'jeruk', 'durian', 'anggur', 'nanas', 'semangka']\n",
            "\n",
            "Setelah menampilkan 3 buah pertama : ['apel', 'jeruk', 'durian']\n"
          ]
        }
      ]
    },
    {
      "cell_type": "code",
      "source": [
        "angka = [45, 12, 78, 23, 56, 89, 34]\n",
        "print(f\"daftar angka : {angka}\\n\")\n",
        "\n",
        "# ascending (dari terkecil ke terbesar)\n",
        "angka.sort()\n",
        "print(f\"ascending : {angka}\")\n",
        "\n",
        "# descending (dari terbesar ke terkecil)\n",
        "angka.reverse()\n",
        "print(f\"descending : {angka}\")"
      ],
      "metadata": {
        "colab": {
          "base_uri": "https://localhost:8080/"
        },
        "id": "uoTBngYISO7F",
        "outputId": "60e54208-8046-4d0c-b6c4-f72cb68a27e2"
      },
      "execution_count": 39,
      "outputs": [
        {
          "output_type": "stream",
          "name": "stdout",
          "text": [
            "daftar angka : [45, 12, 78, 23, 56, 89, 34]\n",
            "\n",
            "ascending : [12, 23, 34, 45, 56, 78, 89]\n",
            "descending : [89, 78, 56, 45, 34, 23, 12]\n"
          ]
        }
      ]
    }
  ]
}