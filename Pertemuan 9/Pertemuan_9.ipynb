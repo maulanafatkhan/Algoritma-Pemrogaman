{
  "nbformat": 4,
  "nbformat_minor": 0,
  "metadata": {
    "colab": {
      "provenance": []
    },
    "kernelspec": {
      "name": "python3",
      "display_name": "Python 3"
    },
    "language_info": {
      "name": "python"
    }
  },
  "cells": [
    {
      "cell_type": "code",
      "execution_count": 9,
      "metadata": {
        "colab": {
          "base_uri": "https://localhost:8080/"
        },
        "id": "qPbLewhIlH95",
        "outputId": "06ecab69-2076-43ca-f7c1-bf8572f267b9"
      },
      "outputs": [
        {
          "output_type": "stream",
          "name": "stdout",
          "text": [
            "[1, 5, 2, 3]\n",
            "['aku', 'dia', 'kita']\n",
            "[True, False, True, False]\n",
            "[1, 'bakwan', 2, 'cireng', 3, 'adit']\n"
          ]
        }
      ],
      "source": [
        "# -- LIST\n",
        "\n",
        "# Kumpulan data angka\n",
        "data_angka = [1, 5, 2, 3]\n",
        "print(data_angka)\n",
        "\n",
        "# Kumpulan data string\n",
        "data_string = [\"aku\", \"dia\", \"kita\"]\n",
        "print(data_string)\n",
        "\n",
        "#Kumpulan data boolean\n",
        "data_boolean = [True, False, True, False]\n",
        "print(data_boolean)\n",
        "\n",
        "# Kumpulan campuran\n",
        "data_campuran = [1, \"bakwan\", 2, \"cireng\", 3, \"adit\"]\n",
        "print(data_campuran)\n",
        "\n",
        "# Cara alternatif membuat list\n",
        "data_range = range(0, 11, 1) #(start, stop, interval)\n",
        "print(data_range)\n",
        "data_list = list(data_range)\n",
        "print(data_list)\n",
        "\n",
        "# Membuat list menggunakan for\n",
        "list_for = [i ** 2 for i in range(0, 10, 2)]\n",
        "print(list_for)\n",
        "\n",
        "# Membuat list menggunakan for pake if\n",
        "list_for_if = [i for i in range (0, 11) if i !=2]\n",
        "print(list_for_if)\n",
        "\n",
        "# Buat list menggunakan for tapi yang akan tampil hanya jika angkanya genap\n",
        "\n",
        "list_for_if = [i for i in range(0, 101)if i %2 == 0]\n",
        "print(list_for_if)\n",
        "\n",
        "# Buat list menggunakan for tapi yang akan tampil hanya jika angkanya ganjil\n",
        "\n",
        "list_for_if = [i for i in range(0, 101)if i %2 != 0]\n",
        "print(list_for_if)\n",
        "\n"
      ]
    },
    {
      "cell_type": "markdown",
      "source": [
        "Manipulasi list\n",
        "\n",
        "\n"
      ],
      "metadata": {
        "id": "vpg1aVxytGc0"
      }
    },
    {
      "cell_type": "markdown",
      "source": [
        "Operasi list"
      ],
      "metadata": {
        "id": "ZRKGhZpMTrjT"
      }
    },
    {
      "cell_type": "code",
      "source": [
        "data_angka = [1,7,3,6,0,4,5,4,2,7,9,7,2,3,1]\n",
        "print(data_angka)\n",
        "print(f\"panjang data {len(data_angka)}\")\n",
        "\n",
        "# count data\n",
        "jumlah_data_4 = data_angka.count(4)\n",
        "print(f\"jumlah data angka 4 adalah {jumlah_data_4}\")\n",
        "\n",
        "# ambil posisi/index\n",
        "data = [\"Rendi\", \"Iqbal\", \"Gana\", \"Khairil\"]\n",
        "print(data)\n",
        "index_iqbal = data.index(\"Iqbal\")\n",
        "print(f\"Index si Iqbal = {index_iqbal} \")\n",
        "\n",
        "# mengurutkan list dari terkecil ke terbesar\n",
        "data_angka.sort()\n",
        "print(f\"data angka sort = \\n{data_angka}\")\n",
        "\n",
        "# urutkan data string\n",
        "data.sort()\n",
        "print(f\"data string sort = \\n{data}\")\n",
        "\n",
        "# membalikkan data / reverse\n",
        "data_angka.reverse()\n",
        "print(f\"data angka reverse = \\n{data_angka}\")\n",
        "\n",
        "# membalikkan data string\n",
        "data.reverse()\n",
        "print(f\"data string reverse = \\n{data}\")"
      ],
      "metadata": {
        "colab": {
          "base_uri": "https://localhost:8080/"
        },
        "id": "C62aflj9VXWU",
        "outputId": "cb650fda-71fc-483e-9cea-f39a7064c75a"
      },
      "execution_count": 12,
      "outputs": [
        {
          "output_type": "stream",
          "name": "stdout",
          "text": [
            "[1, 7, 3, 6, 0, 4, 5, 4, 2, 7, 9, 7, 2, 3, 1]\n",
            "panjang data 15\n",
            "jumlah data angka 4 adalah 2\n",
            "['Rendi', 'Iqbal', 'Gana', 'Khairil']\n",
            "Index si Iqbal = 1 \n",
            "data angka sort = \n",
            "[0, 1, 1, 2, 2, 3, 3, 4, 4, 5, 6, 7, 7, 7, 9]\n",
            "data string sort = \n",
            "['Gana', 'Iqbal', 'Khairil', 'Rendi']\n",
            "data angka reverse = \n",
            "[9, 7, 7, 7, 6, 5, 4, 4, 3, 3, 2, 2, 1, 1, 0]\n",
            "data string reverse = \n",
            "['Rendi', 'Khairil', 'Iqbal', 'Gana']\n"
          ]
        }
      ]
    },
    {
      "cell_type": "markdown",
      "source": [
        "Nested List / List Bersarang"
      ],
      "metadata": {
        "id": "QtP5orvP2721"
      }
    },
    {
      "cell_type": "code",
      "source": [
        "data_0 = [1,2]\n",
        "data_1 = [3,4]\n",
        "data_list_biasa = [1,2,3,4]\n",
        "print(f'list biasa = {data_list_biasa}')\n",
        "\n",
        "list_2D = [data_0, data_1, 6,7]\n",
        "print(f'list 2D = {list_2D}')\n",
        "# contoh penggunaan\n",
        "peserta_0 = [\"Rendi\", 25, \"Laki-laki\"]\n",
        "peserta_1 = [\"Joni\", 10, \"Laki-laki\"]\n",
        "peserta_2 = [\"Eka\", 50, \"Wanita\"]\n",
        "list_peserta = [peserta_0, peserta_1, peserta_2]\n",
        "print(f\"peserta = {list_peserta}\")\n",
        "for peserta in list_peserta:\n",
        "  print(f\"nama\\t : {peserta[0]}\")\n",
        "  print(f\"umur\\t : {peserta[1]}\")\n",
        "  print(f\"Gender\\t  : {peserta[2]}\\n\")"
      ],
      "metadata": {
        "colab": {
          "base_uri": "https://localhost:8080/"
        },
        "id": "soAytiZt27Un",
        "outputId": "aeea89fe-afbd-4e52-d572-65f0fcad4b3b"
      },
      "execution_count": 7,
      "outputs": [
        {
          "output_type": "stream",
          "name": "stdout",
          "text": [
            "list biasa = [1, 2, 3, 4]\n",
            "list 2D = [[1, 2], [3, 4], 6, 7]\n",
            "peserta = [['Rendi', 25, 'Laki-laki'], ['Joni', 10, 'Laki-laki'], ['Eka', 50, 'Wanita']]\n",
            "nama\t : Rendi\n",
            "umur\t : 25\n",
            "Gender\t  : Laki-laki\n",
            "\n",
            "nama\t : Joni\n",
            "umur\t : 10\n",
            "Gender\t  : Laki-laki\n",
            "\n",
            "nama\t : Eka\n",
            "umur\t : 50\n",
            "Gender\t  : Wanita\n",
            "\n"
          ]
        }
      ]
    },
    {
      "cell_type": "code",
      "source": [
        "# Manipulasi data pada list\n",
        "\n",
        "# Index   0        1        2        3\n",
        "data = [\"Ucup\", \"Adit\", \"Dudung\", \"Anin\"]\n",
        "data_0 = data[-1]\n",
        "print(data_0)\n",
        "\n",
        "# Data index (mines) itu digunakan untuk menampilkan data mulai dari yang terakhir\n",
        "\n",
        "# Mengambil info pannjang jumlah data\n",
        "panjang_data = len(data)\n",
        "print(f\"panjang data adalah {panjang_data}\")\n",
        "\n",
        "# Manipulasi data\n",
        "# Menambahkan item pada list sesuai dengan posisi\n",
        "print(f\"data sebelum ditambah: {data}\")\n",
        "\n",
        "# data.insert(posisi, item)\n",
        "data.insert(0, \"Asep\")\n",
        "print(f\"data sebelum ditambah: {data}\")\n",
        "\n",
        "# Menambahkan item di terakhir\n",
        "data.append(\"Ririn\")\n",
        "print(f\"data sebelum ditambah: {data}\")\n",
        "\n",
        "#Menambahkan list\n",
        "data_baru = [\"Luffy\", \"Zorro\", \"Nami\", \"Robbin\"]\n",
        "data.extend(data_baru)\n",
        "print(f\"data setelah digabung: {data}\")\n",
        "\n",
        "# Merubah data\n",
        "# Kita merubah data index ke 4\n",
        "# print(data[4])\n",
        "data[4] = \"Rendi\"\n",
        "print(f\"data setelah diubah: {data}\")\n",
        "\n",
        "# Menghapus data\n",
        "data.remove(\"Dudung\")\n",
        "print(f\"data setelah dihapus: {data}\")\n",
        "\n",
        "# Menghapus data paling belakang\n",
        "data.pop()\n",
        "print(f\"data hapus akhir: {data}\")\n",
        "\n",
        "data[1] = \"Mlue\"\n",
        "print(f\"data setelah diubah: {data}\")\n",
        "\n"
      ],
      "metadata": {
        "colab": {
          "base_uri": "https://localhost:8080/"
        },
        "id": "C9Btmy1QmLKU",
        "outputId": "63f88715-dd47-479e-95cb-0f3e419241a3"
      },
      "execution_count": null,
      "outputs": [
        {
          "output_type": "stream",
          "name": "stdout",
          "text": [
            "Anin\n",
            "panjang data adalah 4\n",
            "data sebelum ditambah: ['Ucup', 'Adit', 'Dudung', 'Anin']\n",
            "data sebelum ditambah: ['Asep', 'Ucup', 'Adit', 'Dudung', 'Anin']\n",
            "data sebelum ditambah: ['Asep', 'Ucup', 'Adit', 'Dudung', 'Anin', 'Ririn']\n",
            "data setelah digabung: ['Asep', 'Ucup', 'Adit', 'Dudung', 'Anin', 'Ririn', 'Luffy', 'Zorro', 'Nami', 'Robbin']\n",
            "data setelah diubah: ['Asep', 'Ucup', 'Adit', 'Dudung', 'Rendi', 'Ririn', 'Luffy', 'Zorro', 'Nami', 'Robbin']\n",
            "data setelah dihapus: ['Asep', 'Ucup', 'Adit', 'Rendi', 'Ririn', 'Luffy', 'Zorro', 'Nami', 'Robbin']\n",
            "data hapus akhir: ['Asep', 'Ucup', 'Adit', 'Rendi', 'Ririn', 'Luffy', 'Zorro', 'Nami']\n",
            "data setelah diubah: ['Asep', 'Mlue', 'Adit', 'Rendi', 'Ririn', 'Luffy', 'Zorro', 'Nami']\n"
          ]
        }
      ]
    },
    {
      "cell_type": "markdown",
      "source": [
        "Tugas pertemuan 9\n"
      ],
      "metadata": {
        "id": "AUP643HI5QbI"
      }
    },
    {
      "cell_type": "code",
      "source": [
        "# 1.Diberikan list berikut:\n",
        "# buah = ['apel', 'mangga', 'jeruk', 'anggur', 'pisang']\n",
        "# a. Tambahkan 'semangka' di akhir list\n",
        "# b. Sisipkan 'durian' di antara 'jeruk' dan 'anggur'\n",
        "# c. Hapus 'mangga' dari list\n",
        "# d. Ubah 'pisang' menjadi 'nanas'\n",
        "# e. Tampilkan 3 buah pertama\n",
        "\n",
        "\n",
        "buah = ['apel', 'mangga', 'jeruk', 'anggur', 'pisang']\n",
        "data_0 = buah\n",
        "print(data_0)\n",
        "\n",
        "data.append('semangka')\n",
        "print(f'data setelah ditambah: {data_0}')"
      ],
      "metadata": {
        "id": "vxY0hKLKV0qy",
        "colab": {
          "base_uri": "https://localhost:8080/"
        },
        "outputId": "60a348d3-9ed9-486d-a281-d056ce5c6b4e"
      },
      "execution_count": null,
      "outputs": [
        {
          "output_type": "stream",
          "name": "stdout",
          "text": [
            "['apel', 'mangga', 'jeruk', 'anggur', 'pisang']\n",
            "data setelah ditambah: ['apel', 'mangga', 'jeruk', 'anggur', 'pisang']\n"
          ]
        }
      ]
    },
    {
      "cell_type": "code",
      "source": [
        "data_angka = [1,7,3,6,0,4,5,4,2,7,9,7,2,3,1]\n",
        "print(data_angka)\n",
        "print(f\"panjang data {len(data_angka)}\")\n",
        "\n",
        "# count data\n",
        "jumlah_data_4 = data_angka.count(4)\n",
        "print(f\"jumlah data angka 4 adalah {jumlah_data_4}\")\n",
        "\n",
        "# ambil posisi/index\n",
        "data = [\"Rendi\", \"Iqbal\", \"Gana\", \"Khairil\"]\n",
        "print(data)\n",
        "index_iqbal = data.index(\"Iqbal\")\n",
        "print(f\"Index si Iqbal = {index_iqbal} \")\n",
        "\n",
        "# mengurutkan list dari terkecil ke terbesar\n",
        "data_angka.sort()\n",
        "print(f\"data angka sort = \\n{data_angka}\")\n",
        "\n",
        "# urutkan data string\n",
        "data.sort()\n",
        "print(f\"data string sort = \\n{data}\")\n",
        "\n",
        "# membalikkan data / reverse\n",
        "data_angka.reverse()\n",
        "print(f\"data angka reverse = \\n{data_angka}\")\n",
        "\n",
        "# membalikkan data string\n",
        "data.reverse()\n",
        "print(f\"data string reverse = \\n{data}\")"
      ],
      "metadata": {
        "id": "8_tga2rXBJu9",
        "colab": {
          "base_uri": "https://localhost:8080/"
        },
        "outputId": "693c9283-5f3a-4a6a-fe30-66ee61281e4d"
      },
      "execution_count": 13,
      "outputs": [
        {
          "output_type": "stream",
          "name": "stdout",
          "text": [
            "[1, 7, 3, 6, 0, 4, 5, 4, 2, 7, 9, 7, 2, 3, 1]\n",
            "panjang data 15\n",
            "jumlah data angka 4 adalah 2\n",
            "['Rendi', 'Iqbal', 'Gana', 'Khairil']\n",
            "Index si Iqbal = 1 \n",
            "data angka sort = \n",
            "[0, 1, 1, 2, 2, 3, 3, 4, 4, 5, 6, 7, 7, 7, 9]\n",
            "data string sort = \n",
            "['Gana', 'Iqbal', 'Khairil', 'Rendi']\n",
            "data angka reverse = \n",
            "[9, 7, 7, 7, 6, 5, 4, 4, 3, 3, 2, 2, 1, 1, 0]\n",
            "data string reverse = \n",
            "['Rendi', 'Khairil', 'Iqbal', 'Gana']\n"
          ]
        }
      ]
    }
  ]
}